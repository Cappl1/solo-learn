{
 "cells": [
  {
   "metadata": {},
   "cell_type": "code",
   "outputs": [],
   "execution_count": null,
   "source": [
    "import pandas as pd\n",
    "import requests\n",
    "from collections import defaultdict\n",
    "from torchvision.datasets import ImageFolder\n",
    "from pathlib import Path\n",
    "\n",
    "root = Path(\"/pfss/mlde/workspaces/mlde_wsp_PI_Roig/shared/datasets\")"
   ],
   "id": "5479b0efe2f7bee3"
  },
  {
   "metadata": {},
   "cell_type": "code",
   "outputs": [],
   "execution_count": null,
   "source": [
    "h5_path = root / 'Ego4d'\n",
    "\n",
    "h5_path"
   ],
   "id": "431ff3eee6306da4"
  },
  {
   "metadata": {},
   "cell_type": "code",
   "outputs": [],
   "execution_count": null,
   "source": [
    "class_map_url = \"https://raw.githubusercontent.com/raghakot/keras-vis/refs/heads/master/resources/imagenet_class_index.json\"\n",
    "class_map = pd.read_json(class_map_url, orient=\"index\").reset_index().rename(\n",
    "    columns={\"index\": \"class_index\", 0: \"class_wn\", 1: \"class_name\"})\n",
    "class_map[\"class_index\"] = class_map[\"class_index\"].astype(int)"
   ],
   "id": "913a3acbcfcf247"
  },
  {
   "metadata": {},
   "cell_type": "code",
   "outputs": [],
   "execution_count": null,
   "source": "class_map.iloc[250]",
   "id": "8d4aac4f45d96999"
  },
  {
   "metadata": {},
   "cell_type": "code",
   "outputs": [],
   "execution_count": null,
   "source": [
    "class ImageNet9(ImageFolder):\n",
    "    def __init__(self, root, transform=None):\n",
    "        super().__init__(root, transform)\n",
    "\n",
    "        url = \"https://raw.githubusercontent.com/MadryLab/backgrounds_challenge/refs/heads/master/in_to_in9.json\"\n",
    "        cls_map = requests.get(url).json()\n",
    "\n",
    "        idx_2_cls = {int(k): v for k, v in cls_map.items()}\n",
    "        cls_2_idx = defaultdict(list)\n",
    "        for key, value in idx_2_cls.items():\n",
    "            cls_2_idx[value].append(key)\n",
    "\n",
    "        class_mapping = list(map(lambda x: cls_2_idx[int(x[:2])], self.classes))\n",
    "        classes = lambda x: class_mapping[x]\n",
    "        self.target_transform = classes\n",
    "\n",
    "\n",
    "ds = ImageNet9(root / 'bg_challenge/original/val')"
   ],
   "id": "886b9870b01c389a"
  },
  {
   "metadata": {},
   "cell_type": "code",
   "outputs": [],
   "execution_count": null,
   "source": [
    "img, label = ds[100]\n",
    "print(label)\n",
    "img"
   ],
   "id": "e512153444d3691b"
  },
  {
   "metadata": {},
   "cell_type": "code",
   "outputs": [],
   "execution_count": null,
   "source": "",
   "id": "69a4a0a2d502d74b"
  }
 ],
 "metadata": {},
 "nbformat": 5,
 "nbformat_minor": 9
}
